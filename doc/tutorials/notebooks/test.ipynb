{
 "cells": [
  {
   "cell_type": "markdown",
   "id": "73403c5e-5d90-47a9-9e34-3e58570b0d98",
   "metadata": {},
   "source": [
    "# This is a markdown cell\n",
    "This is the description\n",
    "- First Item\n",
    "- Second\n",
    "- And third"
   ]
  },
  {
   "cell_type": "code",
   "execution_count": 1,
   "id": "c89fd877-ad65-44b0-ac2e-71182f554c9d",
   "metadata": {},
   "outputs": [
    {
     "name": "stdout",
     "output_type": "stream",
     "text": [
      "Hello world\n"
     ]
    }
   ],
   "source": [
    "print(\"Hello world\")"
   ]
  },
  {
   "cell_type": "code",
   "execution_count": null,
   "id": "0b8b6596-c843-4a4e-b7f2-f700f7fc05f9",
   "metadata": {},
   "outputs": [],
   "source": []
  }
 ],
 "metadata": {
  "kernelspec": {
   "display_name": "Python 3 (ipykernel)",
   "language": "python",
   "name": "python3"
  },
  "language_info": {
   "codemirror_mode": {
    "name": "ipython",
    "version": 3
   },
   "file_extension": ".py",
   "mimetype": "text/x-python",
   "name": "python",
   "nbconvert_exporter": "python",
   "pygments_lexer": "ipython3",
   "version": "3.12.2"
  }
 },
 "nbformat": 4,
 "nbformat_minor": 5
}
